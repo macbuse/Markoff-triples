{
 "cells": [
  {
   "cell_type": "code",
   "execution_count": 2,
   "metadata": {},
   "outputs": [],
   "source": [
    "import numpy as np"
   ]
  },
  {
   "cell_type": "code",
   "execution_count": 6,
   "metadata": {},
   "outputs": [],
   "source": [
    "\n",
    "def R(v):\n",
    "    X,Y,Z = v\n",
    "    return X, X*Y - Z, Y\n",
    "\n",
    "def L(v):\n",
    "    X,Y,Z = v\n",
    "    return  Y*X - Z, Y, X\n",
    "\n",
    "class Triple():\n",
    "    def __init__(self, \n",
    "                 nums=(3,3,3),\n",
    "                 basis=np.array([[1,0],[0,1]])):\n",
    "        self.nums = nums\n",
    "        self.vecs = basis\n",
    "        \n",
    "    def R(self):\n",
    "        X,Y,Z = self.nums\n",
    "        V = self.vecs\n",
    "        return Triple(nums=(X, X*Y - Z, Y), \n",
    "                      basis=np.dot(np.array([[1,1],[1,0]]),V)\n",
    "                     )\n",
    "        \n",
    "    def L(self):\n",
    "        X,Y,Z = self.nums\n",
    "        V = self.vecs\n",
    "        return Triple(nums=(Y*X - Z, Y, X), \n",
    "                      basis=np.dot(np.array([[1,0],[1,1]]),V) \n",
    "                     )\n",
    "    \n",
    "    def __repr__(self):\n",
    "        return str(self.nums)\n",
    "\n",
    "    \n",
    "class Triple():\n",
    "    def __init__(self, \n",
    "                 nums=(3,3,3),\n",
    "                 basis=( np.array([1,0]), np.array([0,1]))\n",
    "                ):\n",
    "        self.nums = nums\n",
    "        self.vecs = basis\n",
    "        \n",
    "    def R(self):\n",
    "        X,Y,Z = self.nums\n",
    "        V = self.vecs\n",
    "        return Triple(nums=(X, X*Y - Z, Y), \n",
    "                      basis=(V[0], V[0]+V[1])\n",
    "                     )\n",
    "        \n",
    "    def L(self):\n",
    "        X,Y,Z = self.nums\n",
    "        V = self.vecs\n",
    "        return Triple(nums=(Y*X - Z, Y, X), \n",
    "                      basis=(V[0]+V[1], V[1]) \n",
    "                     )\n",
    "    \n",
    "    def __repr__(self):\n",
    "        return str(self.nums)\n",
    "\n",
    "\n",
    "class IterTree(object):\n",
    "    #this is a list of lists one at each depth in the tree\n",
    "    def __init__(self, max_size=1000):\n",
    "        self.max = max_size\n",
    "        self.triples = [ ]\n",
    "    \n",
    "    def make(self,v,d=0):\n",
    "        \n",
    "        self.triples.append(v)\n",
    "        d +=1\n",
    "        if d > 5: return\n",
    "        if max(v.nums) < self.max and min(v.nums) > -self.max:\n",
    "            self.make(v.L(),d=d)\n",
    "            self.make(v.R(), d=d)\n",
    "        return\n",
    "    "
   ]
  },
  {
   "cell_type": "code",
   "execution_count": 14,
   "metadata": {},
   "outputs": [],
   "source": [
    "import numpy as np\n",
    "\n",
    "basis = ( np.array([1,0]), np.array([0,1]) )\n",
    "\n",
    "root = Triple(nums=(2,4,0),basis=basis)\n",
    "mark = IterTree(max_size= 5000)\n",
    "mark.make(root)"
   ]
  },
  {
   "cell_type": "markdown",
   "metadata": {},
   "source": [
    "# The different types of generator\n",
    "\n",
    "$\\text{tr} X = 0 \\Rightarrow X$ is an element of order 2\n",
    "and the Dehn twist (Nielsen transformation) \n",
    "https://en.wikipedia.org/wiki/Nielsen_transformation\n",
    "\n",
    "$(x,y,z) \\mapsto ( xy - z, y, x)$\n",
    "\n",
    "is order 4 so we get a cycle in the Markoff numbers:\n",
    "\n",
    "$(4, 0, 2) \\rightarrow (-2, 0, 4) \\rightarrow  (-4, 0, -2) \\rightarrow (2, 0, -4) \\rightarrow  (4, 0, 2)$\n",
    "\n",
    "$\\text{tr} X = 0 \\Rightarrow X$ is a parabolic element \n",
    "and the Dehn twist (?? move) is infinite order and \n",
    "we get an arithemetic progression:\n",
    "\n",
    "$4, 2, 0)\\rightarrow (8, 2, 4)\\rightarrow (12, 2, 8)\\rightarrow (16, 2, 12)\\rightarrow (20, 2, 16)\\rightarrow (24, 2, 20) \\ldots$\n",
    "\n",
    "\n",
    "So to count the integer points in this orbit we should count the integer points\n",
    "inside a wedge which is a fundamental domain in $\\mathbb{R}^2$\n",
    "for the action of the action of the Dehn twist round the \"curve which is order 4\"\n"
   ]
  },
  {
   "cell_type": "code",
   "execution_count": 36,
   "metadata": {},
   "outputs": [
    {
     "name": "stderr",
     "output_type": "stream",
     "text": [
      "/home/gregmcshane/anaconda3/lib/python3.6/site-packages/ipykernel_launcher.py:4: RuntimeWarning: invalid value encountered in log\n",
      "  after removing the cwd from sys.path.\n"
     ]
    },
    {
     "data": {
      "image/png": "[encoded data removed]",
      "text/plain": [
       "<Figure size 576x576 with 1 Axes>"
      ]
     },
     "metadata": {},
     "output_type": "display_data"
    }
   ],
   "source": [
    "nums = []\n",
    "\n",
    "nn = plot_fig(0,4,2)"
   ]
  },
  {
   "cell_type": "markdown",
   "metadata": {},
   "source": [
    "in the figure the Dehn twist along the order 4 element \n",
    "corresponds to a transvection $(x,y) \\mapsto (x, x+y)$\n",
    "so we see an infinite band appearing."
   ]
  },
  {
   "cell_type": "code",
   "execution_count": 15,
   "metadata": {},
   "outputs": [
    {
     "data": {
      "text/plain": [
       "[(2, 4, 0),\n",
       " (8, 4, 2),\n",
       " (30, 4, 8),\n",
       " (112, 4, 30),\n",
       " (418, 4, 112),\n",
       " (1560, 4, 418),\n",
       " (418, 1560, 4),\n",
       " (112, 418, 4),\n",
       " (46812, 418, 112),\n",
       " (112, 46812, 418),\n",
       " (30, 112, 4),\n",
       " (3356, 112, 30),\n",
       " (375842, 112, 3356),\n",
       " (3356, 375842, 112),\n",
       " (30, 3356, 112),\n",
       " (100568, 3356, 30),\n",
       " (30, 100568, 3356),\n",
       " (8, 30, 4),\n",
       " (236, 30, 8),\n",
       " (7072, 30, 236),\n",
       " (236, 7072, 30),\n",
       " (8, 236, 30),\n",
       " (1858, 236, 8),\n",
       " (438480, 236, 1858),\n",
       " (1858, 438480, 236),\n",
       " (8, 1858, 236),\n",
       " (14628, 1858, 8),\n",
       " (8, 14628, 1858),\n",
       " (2, 8, 4),\n",
       " (12, 8, 2),\n",
       " (94, 8, 12),\n",
       " (740, 8, 94),\n",
       " (5826, 8, 740),\n",
       " (740, 5826, 8),\n",
       " (94, 740, 8),\n",
       " (69552, 740, 94),\n",
       " (94, 69552, 740),\n",
       " (12, 94, 8),\n",
       " (1120, 94, 12),\n",
       " (105268, 94, 1120),\n",
       " (1120, 105268, 94),\n",
       " (12, 1120, 94),\n",
       " (13346, 1120, 12),\n",
       " (12, 13346, 1120),\n",
       " (2, 12, 8),\n",
       " (16, 12, 2),\n",
       " (190, 12, 16),\n",
       " (2264, 12, 190),\n",
       " (190, 2264, 12),\n",
       " (16, 190, 12),\n",
       " (3028, 190, 16),\n",
       " (16, 3028, 190),\n",
       " (2, 16, 12),\n",
       " (20, 16, 2),\n",
       " (318, 16, 20),\n",
       " (20, 318, 16),\n",
       " (2, 20, 16),\n",
       " (24, 20, 2),\n",
       " (2, 24, 20)]"
      ]
     },
     "execution_count": 15,
     "metadata": {},
     "output_type": "execute_result"
    }
   ],
   "source": [
    "mark.triples"
   ]
  },
  {
   "cell_type": "code",
   "execution_count": 17,
   "metadata": {},
   "outputs": [],
   "source": [
    "import matplotlib.pyplot as plt"
   ]
  },
  {
   "cell_type": "code",
   "execution_count": 18,
   "metadata": {},
   "outputs": [
    {
     "name": "stderr",
     "output_type": "stream",
     "text": [
      "/home/gregmcshane/anaconda3/lib/python3.6/site-packages/ipykernel_launcher.py:5: RuntimeWarning: divide by zero encountered in true_divide\n",
      "  \"\"\"\n",
      "/home/gregmcshane/anaconda3/lib/python3.6/site-packages/ipykernel_launcher.py:5: RuntimeWarning: invalid value encountered in true_divide\n",
      "  \"\"\"\n"
     ]
    },
    {
     "data": {
      "text/plain": [
       "[<matplotlib.lines.Line2D at 0x7b037a4c8668>]"
      ]
     },
     "execution_count": 18,
     "metadata": {},
     "output_type": "execute_result"
    },
    {
     "data": {
      "image/png": "[encoded data removed]",
      "text/plain": [
       "<Figure size 432x288 with 1 Axes>"
      ]
     },
     "metadata": {},
     "output_type": "display_data"
    }
   ],
   "source": [
    "def ff(x):\n",
    "    x = abs(x)\n",
    "    return np.log( .5*(x + np.sqrt(x**2 - 4)))\n",
    "\n",
    "uu = [ t.vecs[0]/ff(t.nums[0]) for t in mark.triples]\n",
    "X, Y = zip(* uu)   \n",
    "plt.plot(X,Y, 'x')"
   ]
  },
  {
   "cell_type": "code",
   "execution_count": 45,
   "metadata": {},
   "outputs": [],
   "source": [
    "root = Triple(nums=(2.1,2.01,-2.01),basis=basis)\n",
    "mark = IterTree(max_size= 5000)\n",
    "mark.make(root)"
   ]
  },
  {
   "cell_type": "code",
   "execution_count": 46,
   "metadata": {},
   "outputs": [
    {
     "data": {
      "text/plain": [
       "[<matplotlib.lines.Line2D at 0x7ea315ed86a0>]"
      ]
     },
     "execution_count": 46,
     "metadata": {},
     "output_type": "execute_result"
    },
    {
     "data": {
      "image/png": "[encoded data removed]",
      "text/plain": [
       "<Figure size 432x288 with 1 Axes>"
      ]
     },
     "metadata": {},
     "output_type": "display_data"
    }
   ],
   "source": [
    "uu = [ t.vecs[0]/ff(t.nums[0]) for t in mark.triples]\n",
    "X, Y = zip(* uu)   \n",
    "plt.plot(X,Y, 'x')"
   ]
  },
  {
   "cell_type": "code",
   "execution_count": 22,
   "metadata": {},
   "outputs": [],
   "source": [
    "class Markoff(object):\n",
    "    \n",
    "    def __init__(self, mn = (3,np.array([1,0]))):\n",
    "        self.n, self.v = mn\n",
    "    \n",
    "    #this is cheating as it breaks the symetry \n",
    "    #between + and - \n",
    "    #but the subsequent code looks better\n",
    "    \n",
    "    def __mul__(self, other):\n",
    "        return Markoff((self.n*other.n, self.v + other.v))\n",
    "    \n",
    "    def __sub__(self, other):\n",
    "        return Markoff((self.n - other.n, self.v))\n",
    "    \n",
    "    def __abs__(self):\n",
    "        return abs(self.n)\n",
    "    \n",
    "    def m2v(self):\n",
    "        #thisis a dumb name for a function\n",
    "        length = acosh(self.n)\n",
    "        #not elegant I want to check if  .real exists\n",
    "        if not isinstance(length, np.float64):\n",
    "            length = abs(length.real)\n",
    "   \n",
    "        return self.v/length\n",
    "        \n",
    "    def __str__(self):\n",
    "        return str(self.n)\n",
    "    \n",
    "    def __repr__(self):\n",
    "        return repr(self.n)"
   ]
  },
  {
   "cell_type": "code",
   "execution_count": 23,
   "metadata": {},
   "outputs": [],
   "source": [
    "def acosh(u):\n",
    "    #this will take complex numbers\n",
    "    if abs(u**2 - 4) < .000001: return 10**3\n",
    "    return np.log( .5*(u + np.sqrt(u**2 - 4)))"
   ]
  },
  {
   "cell_type": "code",
   "execution_count": 30,
   "metadata": {},
   "outputs": [],
   "source": [
    "# these two are global to tree()\n",
    "max_depth = 10000\n",
    "nums = []\n",
    "# but who cares?\n",
    "\n",
    "def tree(mt, dd):\n",
    "    global nums\n",
    "    dd +=1\n",
    "    x,y,z = mt\n",
    "    nums.append(z)\n",
    "    if abs(z) > max_depth or dd > 20:\n",
    "        return\n",
    "    tree((z,y,y*z - x), dd)\n",
    "    tree((x,z,x*z - y), dd)\n"
   ]
  },
  {
   "cell_type": "code",
   "execution_count": 34,
   "metadata": {},
   "outputs": [],
   "source": [
    "nums  = []\n",
    "\n",
    "def plot_fig(a=3,b=3,c=3):\n",
    "    \n",
    "    x = Markoff((a, np.array([1,0]) ))\n",
    "    y = Markoff((b, np.array([0,1]) ))\n",
    "    z = Markoff((c, np.array([1,1]) ))\n",
    "    \n",
    "    tree((x,y,z), dd=0)\n",
    "    x = Markoff((a, np.array([-1,0]) ))\n",
    "    z = Markoff((a*b-c, np.array([-1,1]) ))\n",
    "    tree((x,y,z), dd=0)\n",
    "    \n",
    "    TT = [ n.m2v() for n in nums]\n",
    "    TT = [v for v in TT if np.linalg.norm(v) < 20]\n",
    "    fig = plt.figure(figsize=(8,8))\n",
    "    ax = fig.add_subplot(111)\n",
    "    ax.set_aspect(2) \n",
    "    ax.axis('off')\n",
    "    XS, YS = zip(*TT)\n",
    "    ax.plot(XS,YS,'r.')\n",
    "    TT = [ -v for v in TT]\n",
    "    XS, YS = zip(* TT)\n",
    "    ax.plot(XS,YS,'b.')\n",
    "\n",
    "    XS,YS = [0,0], [-2,2]\n",
    "    ax.plot(XS,YS,'k')\n",
    "    ax.plot(YS,XS,'k')\n",
    "    return nums"
   ]
  },
  {
   "cell_type": "code",
   "execution_count": 25,
   "metadata": {},
   "outputs": [
    {
     "data": {
      "image/png": "[encoded data removed]",
      "text/plain": [
       "<Figure size 576x576 with 1 Axes>"
      ]
     },
     "metadata": {},
     "output_type": "display_data"
    }
   ],
   "source": [
    "nn = plot_fig(3,3,3)"
   ]
  },
  {
   "cell_type": "code",
   "execution_count": 35,
   "metadata": {},
   "outputs": [
    {
     "name": "stderr",
     "output_type": "stream",
     "text": [
      "/home/gregmcshane/anaconda3/lib/python3.6/site-packages/ipykernel_launcher.py:4: RuntimeWarning: invalid value encountered in log\n",
      "  after removing the cwd from sys.path.\n"
     ]
    },
    {
     "data": {
      "image/png": "[encoded data removed]",
      "text/plain": [
       "<Figure size 576x576 with 1 Axes>"
      ]
     },
     "metadata": {},
     "output_type": "display_data"
    }
   ],
   "source": [
    "nums = []\n",
    "\n",
    "nn = plot_fig(0,4,2)"
   ]
  },
  {
   "cell_type": "code",
   "execution_count": null,
   "metadata": {},
   "outputs": [],
   "source": []
  }
 ],
 "metadata": {
  "kernelspec": {
   "display_name": "Python 3",
   "language": "python",
   "name": "python3"
  },
  "language_info": {
   "codemirror_mode": {
    "name": "ipython",
    "version": 3
   },
   "file_extension": ".py",
   "mimetype": "text/x-python",
   "name": "python",
   "nbconvert_exporter": "python",
   "pygments_lexer": "ipython3",
   "version": "3.6.5"
  }
 },
 "nbformat": 4,
 "nbformat_minor": 2
}
