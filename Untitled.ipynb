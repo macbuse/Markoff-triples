{
 "cells": [
  {
   "cell_type": "code",
   "execution_count": 1,
   "metadata": {},
   "outputs": [],
   "source": [
    "ss = '''\n",
    "Sélectionner « Filippo Casagrande »\tAvatar Filippo CasagrandeFilippo Casagrande\tFilippo.Casagrande@etu.univ-grenoble-alpes.fr\t\n",
    "Étudiant \n",
    "Groupe 1 \n",
    "Jamais\t\n",
    "Active   \n",
    "Sélectionner « Axel Chatelard »\tAvatar Axel ChatelardAxel Chatelard\tAxel.Chatelard@etu.univ-grenoble-alpes.fr\t\n",
    "Étudiant \n",
    "Groupe 1 \n",
    "6 heures 12 min\t\n",
    "Active   \n",
    "Sélectionner « Aurelien Devaux »\tAvatar Aurelien DevauxAurelien Devaux\tAurelien.Devaux@etu.univ-grenoble-alpes.fr\t\n",
    "Étudiant \n",
    "Groupe 1 \n",
    "4 heures 36 min\t\n",
    "Active   \n",
    "Sélectionner « Maxance Ducamps »\tAvatar Maxance DucampsMaxance Ducamps\tMaxance.Ducamps@etu.univ-grenoble-alpes.fr\t\n",
    "Étudiant \n",
    "Groupe 1 \n",
    "1 jour 3 heures\t\n",
    "Active   \n",
    "Sélectionner « Maxime Dufreney »\tAvatar Maxime DufreneyMaxime Dufreney\tMaxime.Dufreney@etu.univ-grenoble-alpes.fr\t\n",
    "Étudiant \n",
    "Groupe 1 \n",
    "21 heures 57 min\t\n",
    "Active   \n",
    "Sélectionner « Nolwenn Faivre D'Arcier »\tAvatar Nolwenn Faivre D'ArcierNolwenn Faivre D'Arcier\tNolwenn.Faivre-D-Arcier@etu.univ-grenoble-alpes.fr\t\n",
    "Étudiant \n",
    "Groupe 1 \n",
    "22 heures 57 min\t\n",
    "Active   \n",
    "Sélectionner « Remi Haessig »\tAvatar Remi HaessigRemi Haessig\tRemi.Haessig@etu.univ-grenoble-alpes.fr\t\n",
    "Étudiant \n",
    "Groupe 1 \n",
    "4 heures 36 min\t\n",
    "Active   \n",
    "Sélectionner « Paola Letquimounin »\tAvatar Paola LetquimouninPaola Letquimounin\tPaola.Letquimounin@etu.univ-grenoble-alpes.fr\t\n",
    "Étudiant \n",
    "Groupe 1 \n",
    "Jamais\t\n",
    "Active   \n",
    "Sélectionner « Nais Leveque »\tAvatar Nais LevequeNais Leveque\tNais.Leveque@etu.univ-grenoble-alpes.fr\t\n",
    "Étudiant \n",
    "Groupe 1 \n",
    "1 jour 1 heure\t\n",
    "Active   \n",
    "Sélectionner « Catriona Maclean »\tAvatar Catriona MacleanCatriona Maclean\tCatriona.MacLean@univ-grenoble-alpes.fr\t\n",
    "Enseignant \n",
    "Groupe 1 \n",
    "17 heures\t\n",
    "Active   \n",
    "Sélectionner « Hugo Maitre »\tAvatar Hugo MaitreHugo Maitre\tHugo.Maitre@etu.univ-grenoble-alpes.fr\t\n",
    "Étudiant \n",
    "Groupe 1 \n",
    "6 heures 49 min\t\n",
    "Active   \n",
    "Sélectionner « Mathis Martin »\tAvatar Mathis MartinMathis Martin\tMathis.Martin2@etu.univ-grenoble-alpes.fr\t\n",
    "Étudiant \n",
    "Groupe 1 \n",
    "6 heures 9 min\t\n",
    "Active   \n",
    "Sélectionner « Emma Michel »\tAvatar Emma MichelEmma Michel'''"
   ]
  },
  {
   "cell_type": "code",
   "execution_count": 2,
   "metadata": {},
   "outputs": [],
   "source": [
    "import re "
   ]
  },
  {
   "cell_type": "code",
   "execution_count": 4,
   "metadata": {},
   "outputs": [
    {
     "name": "stdout",
     "output_type": "stream",
     "text": [
      " Filippo Casagrande \n",
      "- Axel Chatelard \n",
      "- Aurelien Devaux \n",
      "- Maxance Ducamps \n",
      "- Maxime Dufreney \n",
      "- Nolwenn Faivre D'Arcier \n",
      "- Remi Haessig \n",
      "- Paola Letquimounin \n",
      "- Nais Leveque \n",
      "- Catriona Maclean \n",
      "- Hugo Maitre \n",
      "- Mathis Martin \n",
      "- Emma Michel \n"
     ]
    }
   ],
   "source": [
    "pp = re.compile('«(.*?)»')\n",
    "print('\\n-'.join(pp.findall(ss)))"
   ]
  },
  {
   "cell_type": "code",
   "execution_count": null,
   "metadata": {},
   "outputs": [],
   "source": []
  }
 ],
 "metadata": {
  "kernelspec": {
   "display_name": "Python 3",
   "language": "python",
   "name": "python3"
  },
  "language_info": {
   "codemirror_mode": {
    "name": "ipython",
    "version": 3
   },
   "file_extension": ".py",
   "mimetype": "text/x-python",
   "name": "python",
   "nbconvert_exporter": "python",
   "pygments_lexer": "ipython3",
   "version": "3.8.3"
  }
 },
 "nbformat": 4,
 "nbformat_minor": 4
}
